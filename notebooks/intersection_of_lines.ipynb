{
 "cells": [
  {
   "cell_type": "markdown",
   "metadata": {},
   "source": [
    "# Least-Squares Intersection of Lines\n",
    "\n",
    "Paper: https://silo.tips/download/least-squares-intersection-of-lines (Least-Squares Intersection of Lines, Johannes Traa - UIUC 2013)\n",
    "\n",
    "Tested the implementation in 2D here. 3D implementation doesn't need extra precaution. Even though sometimes these computations may result with `NaN`, so use mean of all points in this case."
   ]
  },
  {
   "cell_type": "markdown",
   "metadata": {},
   "source": [
    "## Find Intersection Point (ML Method)"
   ]
  },
  {
   "cell_type": "code",
   "execution_count": 5,
   "metadata": {
    "ExecuteTime": {
     "end_time": "2022-04-13T00:34:39.776671Z",
     "start_time": "2022-04-13T00:34:39.627841Z"
    }
   },
   "outputs": [
    {
     "name": "stdout",
     "output_type": "stream",
     "text": [
      "[[0.74646739]\n",
      " [0.09755435]]\n"
     ]
    },
    {
     "data": {
      "text/plain": [
       "(-2.0, 2.0)"
      ]
     },
     "execution_count": 5,
     "metadata": {},
     "output_type": "execute_result"
    },
    {
     "data": {
      "image/png": "[encoded data removed]",
      "text/plain": [
       "<Figure size 432x288 with 1 Axes>"
      ]
     },
     "metadata": {
      "needs_background": "light"
     },
     "output_type": "display_data"
    }
   ],
   "source": [
    "import numpy as np\n",
    "import matplotlib.pyplot as plt\n",
    "\n",
    "vec1 = 0.1, 0.2, 0.2\n",
    "vec2 = 0.1, 0.2, -0.2\n",
    "vec3 = 1, 0.1, 0.5\n",
    "vec4 = 0, 0, 0\n",
    "\n",
    "vecs = [vec1, vec2, vec3, vec4]\n",
    "\n",
    "R = np.zeros((2,2))\n",
    "q = np.zeros((1,2))\n",
    "\n",
    "for v in vecs:\n",
    "    x,y,s = v\n",
    "    a = (x,y)\n",
    "    vx = np.cos(np.arctan(s))\n",
    "    vy = np.sin(np.arctan(s))\n",
    "    n = (vx, vy)\n",
    "    n = np.array(n).reshape(2,1)\n",
    "\n",
    "    R += np.eye(2) - n @ n.T\n",
    "    q += (np.eye(2) - n @ n.T) @ a\n",
    "    plt.axline((x,y), slope=s, color='k')\n",
    "    \n",
    "point = np.linalg.pinv(R) @ q.T\n",
    "print(point)  \n",
    "plt.plot(point[0], point[1], \"or\")\n",
    "plt.axis('equal')\n",
    "plt.xlim(-2,2)\n",
    "plt.ylim(-2,2)"
   ]
  },
  {
   "cell_type": "code",
   "execution_count": 6,
   "metadata": {
    "ExecuteTime": {
     "end_time": "2022-04-13T00:34:40.898091Z",
     "start_time": "2022-04-13T00:34:40.736442Z"
    }
   },
   "outputs": [
    {
     "name": "stdout",
     "output_type": "stream",
     "text": [
      "[[0.21109695]\n",
      " [0.87867407]]\n"
     ]
    },
    {
     "data": {
      "text/plain": [
       "(-2.0, 2.0)"
      ]
     },
     "execution_count": 6,
     "metadata": {},
     "output_type": "execute_result"
    },
    {
     "data": {
      "image/png": "[encoded data removed]",
      "text/plain": [
       "<Figure size 432x288 with 1 Axes>"
      ]
     },
     "metadata": {
      "needs_background": "light"
     },
     "output_type": "display_data"
    }
   ],
   "source": [
    "vec1 = -1, 0, 0.8\n",
    "vec2 = -1.2, 0.1, 0.5\n",
    "vec3 = 1.2, 0.1, -0.7\n",
    "vec4 = 1.2, 0.1, -0.9\n",
    "\n",
    "vecs = [vec1, vec2, vec3, vec4]\n",
    "\n",
    "R = np.zeros((2,2))\n",
    "q = np.zeros((1,2))\n",
    "\n",
    "for v in vecs:\n",
    "    x,y,s = v\n",
    "    a = (x,y)\n",
    "    vx = np.cos(np.arctan(s))\n",
    "    vy = np.sin(np.arctan(s))\n",
    "    n = (vx, vy)\n",
    "    n = np.array(n).reshape(2,1)\n",
    "\n",
    "    R += np.eye(2) - n @ n.T\n",
    "    q += (np.eye(2) - n @ n.T) @ a\n",
    "    plt.axline((x,y), slope=s, color='k')\n",
    "    \n",
    "point = np.linalg.pinv(R) @ q.T\n",
    "print(point)  \n",
    "plt.plot(point[0], point[1], \"or\")\n",
    "plt.axis('equal')\n",
    "plt.xlim(-2,2)\n",
    "plt.ylim(-2,2)"
   ]
  },
  {
   "cell_type": "markdown",
   "metadata": {},
   "source": [
    "## Find Intersection Point (MAP Method)\n",
    "\n",
    "This method finds the intersection point but with a bias towards a point. I have used mean of all points for the bias point to handle cases with bell pepper pointclouds with very limited data.\n",
    "\n",
    "**Note:** I have implemented this directly in C++ in the project."
   ]
  },
  {
   "cell_type": "code",
   "execution_count": null,
   "metadata": {},
   "outputs": [],
   "source": []
  }
 ],
 "metadata": {
  "kernelspec": {
   "display_name": "Python 3 (pytorch)",
   "language": "python",
   "name": "pytorch"
  },
  "language_info": {
   "codemirror_mode": {
    "name": "ipython",
    "version": 3
   },
   "file_extension": ".py",
   "mimetype": "text/x-python",
   "name": "python",
   "nbconvert_exporter": "python",
   "pygments_lexer": "ipython3",
   "version": "3.9.6"
  },
  "toc": {
   "base_numbering": 1,
   "nav_menu": {},
   "number_sections": true,
   "sideBar": true,
   "skip_h1_title": false,
   "title_cell": "Table of Contents",
   "title_sidebar": "Contents",
   "toc_cell": false,
   "toc_position": {},
   "toc_section_display": true,
   "toc_window_display": false
  }
 },
 "nbformat": 4,
 "nbformat_minor": 4
}
